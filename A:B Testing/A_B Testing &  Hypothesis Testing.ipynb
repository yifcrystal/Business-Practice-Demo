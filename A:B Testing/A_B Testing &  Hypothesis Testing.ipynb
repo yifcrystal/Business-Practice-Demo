{
 "cells": [
  {
   "cell_type": "markdown",
   "id": "969c3a57",
   "metadata": {},
   "source": [
    "# A/B testing & Hypothesis Testing "
   ]
  },
  {
   "cell_type": "markdown",
   "id": "fce40aed",
   "metadata": {},
   "source": [
    "**Contents**\n",
    "- [Basic Concepts (with an virtual example)](#01)\n",
    "    - [0. Background](#02)\n",
    "    - [1. Prerequisites](#03)\n",
    "        - 1).Objectives\n",
    "        - 2).Metrics\n",
    "        - 3).Variants\n",
    "        - 4).Randomization Units  \n",
    "    - [2. Experiment Design](#04)\n",
    "        - 1).Target Population \n",
    "        - 2).Sample Size \n",
    "        - 3).Determine Test Duration\n",
    "    - [3. Running Experiment](#05)    \n",
    "    - [4. Result Analysis to Decision & Post-launch Monitoring ](#06) \n",
    "        - 1).Sanity check \n",
    "        - 2).Hypothesis Tests\n",
    "        - 3).Statistical and Practical Significance\n",
    "    - [5. Common Problems and Pitfalls](#07)  \n",
    "        - 1).Multiple Testing Problems \n",
    "        - 2).Lack of Testing Power\n",
    "        - 3).Changes in Users’ Behaviors\n",
    "        - 4).Network Effects\n",
    "- [Demo using Marketing A/B testing dataset](#08)\n",
    "    - [About Dataset](#09)\n",
    "    - [Working Process](#10)\n",
    "        1. Understanding business problem & data\n",
    "        2. Detect and resolve problems in the data (Missing Value, Outliers, Unexpected Value\n",
    "        3. Look summary stats and plots\n",
    "        4. Apply hypothesis testing and check assumptions\n",
    "        5. Check Normality & Homogeneity\n",
    "        6. Apply tests (Shapiro, Levene Test, T-Test, Welch Test, Mann Whitney U Test)\n",
    "        7. Evaluate the results\n",
    "        8. Make inferences\n",
    "        9. Recommend business decision to your customer/director/ceo etc."
   ]
  },
  {
   "attachments": {},
   "cell_type": "markdown",
   "id": "63a321bb",
   "metadata": {},
   "source": [
    "<a name=\"01\"></a>\n",
    "## Basic Concepts (with an virtual example)\n",
    "**Note: The words that are quoted are all steps of examples**\n",
    "<a name=\"02\"></a>\n",
    "### 0. Background : \n",
    "> We want to use A/B testing to test the effect of new feature \"similar products\" on the website checkout page for an e-commerce webpage.\n",
    "There are two probable results of showing \"similar products\" on the website checkout page : \n",
    ">1. It may increase revenue by making customers to purchase other similar products\n",
    ">2. Similar products may be cheaper /of more features/ more appealing to customers, so those products may distract customers that they may spend extra time exploring those products, which may result in delaying or abandoning checkout process. \n",
    "\n",
    "<a name=\"03\"></a>\n",
    "### 1. Prerequisites : \n",
    "#### 1). Objectives : Make sure we understand the objective of A/B testing \n",
    ">The A/B testing aims to test the effect of new \"similar products\" feature at the website checkout page for a e-commerce retailer. \n",
    "\n",
    "#### 2). Metrics\n",
    "> **Ideal metrics for this experiment:**\n",
    ">- Difference in revenue due to the new feature of \"similar products\" \n",
    ">- Revenue (when there are equal numbers of customers in treatment group and control group)\n",
    ">- Revenue per user (when there are different numbers of customers in treatment group and control group)\n",
    "\n",
    "**Experiment Metrics Criteria** :\n",
    "- **Measurable within the experiment timeframe.**\n",
    "- **Attributable to the change in the product/feature.**\n",
    "- **Sensitive enough to detect changes that matter in a timely fashion.**\n",
    "\n",
    "1. **Success Metrics (goal metrics, true north metrics)**\n",
    "- A single or a very small set of metrics that capture the ultimate success you are striving towards\n",
    "- Reflects company's vision & mission \n",
    "- Easily understood and broadly accepted by stakeholders\n",
    "- Stable over time (should not be necessary to update goal metrics every time you launch a new feature)\n",
    "- May not be suitable for experiments \n",
    "    - difficult to measure \n",
    "    - not sensitive to product changes\n",
    "\n",
    "2. **Driver Metrics (signpost metrics, surrogate metrics, indirect or predictive metrics)**\n",
    "- Shorter-term, faster-moving\n",
    "- Reflects hypotheses on the drivers of success and indicates we are moving in the right direction to move the goal metrics\n",
    "- Resistant to gaming (when experiment shows result but there is not meaningful insight)\n",
    "- **Sensitive & Timely** : sensitive enough to the change made in the business\n",
    "    - Good example : CTR (click through rate)/conversion rate (% of users take the desired action )\n",
    "        - Immediately reflect ads performance\n",
    "    - Bad example : DAU \n",
    "        - Takes time for users to purchase, adopt to the product \n",
    "        - Important to the business but not suitable for A/B testing\n",
    "- **Measurable :** able to calculate metrics with data collected during experiment period.\n",
    "    - Good example : CTR (click through rate)\n",
    "        - Counts can be obtained real time\n",
    "    - Bad example : MAU/retention\n",
    "        - Out of the experiment time frame\n",
    "- **Attributable :** Able to attribute the change in metrics to experiment variants;able to measure the metrics in both treatment and control groups\n",
    "    - Good example : CTR (click through rate)\n",
    "        - Attribute CTR to the ads design\n",
    "    - Bad example : DAU/ user retention\n",
    "        - Many other things can cause the change\n",
    "- How to generate driver metrics:\n",
    "    - Combine quantitative and qualitative methods\n",
    "        - qualitative : user experience research, focus groups, and surveys to understand users' needs\n",
    "        - quantitative : data analysis, such as analysis of logs to see what users do and find patterns in logs\n",
    "    - Business goals: growth, engagement, revenue\n",
    "    - HEART: happiness, engagement, adoption, retention, and task Success\n",
    "    - AARRR: acquisition, activation, retention, referral, and revenue\n",
    "    - User funnel : consider the steps users in each group need to take to use a feature or a product as most products have a funnel that moves users towards taking key actions or desired outcomes that are meaningful to the business\n",
    "    \n",
    "<img style=\"float: middle;\" src='user funnel.png' width=\"50%\">         \n",
    "\n",
    "3. **Guardrail Metrics (counter metrics)**: guard new feature from harming the business or violating assumptions\n",
    "- Organizational Guardrails\n",
    "    - Ensures we move towards success with the right balance and without violating important constraints\n",
    "    - E.g. \n",
    "        - Website/App performance\n",
    "        - latency: wait times for pages to load\n",
    "        - error logs: number of error messages\n",
    "        - client crashes: number of crashes per user\n",
    "        - business goals\n",
    "        - revenue: revenue per user and total revenue\n",
    "        - engagement (e.g. time spent per user, DAU, and page views per user)\n",
    "\n",
    "- Trust-related guardrails\n",
    "    - Assess the trustworthiness and internal validity (whether violate any assumptions)of experiment results\n",
    "    - E.g. \n",
    "        - the Sample Ratio Mismatch (SRM) guardrail and cache hit ratio to be the same among Control and Treatment.\n",
    "\n",
    "**How to make a decision when on metric goes up and one metric goes down ?**\n",
    "- We can make Overall Evaluation Criterion (OEC) to build up mental model of the trade-offs\n",
    "    - eg. user acquisition & revenue (expensive campaigns degrade revenue)\n",
    "    - decisions are made among many stakeholders\n",
    "    - we can have a weighted combination of different metrics\n",
    "    \n",
    "- If it's difficult for us to have such OEC, we can have no more than 5 metrics, as too many metrics :\n",
    "    - will cause confusion & easily ignore the key metrics\n",
    "    - increase chances of false discovery \n",
    "\n",
    "#### 3). Variants : Control Group and Treatment Group\n",
    "> Control Group and Treatment Group setup\n",
    ">- Control group : checkout page without showing any similar products\n",
    ">- Treatment group I : adding a \"similar product\" section on the checkout page \n",
    ">- Treatment group II : adding a \"similar product\" pop-up window on the checkout page \n",
    "\n",
    "#### 4). Randomization Units : who / what we randomly assign to each variant of an A/B testing\n",
    "\n",
    "**Common Types :**\n",
    "\n",
    "1. **Account-Based/User-Based(User ID/login)**: every single account is a randomization unit. \n",
    "    - pros: \n",
    "        - stable across time and platforms\n",
    "        - allow for long-term measurement\n",
    "    - cons: \n",
    "        - mindful of identifiable\n",
    "        - requires to login to dentify\n",
    "2. **Cookie-Based(Cookies)**: a pseudonymous user ID, that is specific to a browser and a device\n",
    "    - pros : \n",
    "        - used to identify users without logging \n",
    "        - anonymous\n",
    "    - cons : \n",
    "        - users can clear cookies\n",
    "        - not persistent across platforms\n",
    "3. **Event-Based(Session-Based/Page View-Based)**: Every user session is a randomization unit. A session starts when a user logs in and ends when a user logs out or after 30 min of inactivity; Every page visit is a randomization unit. It does not require users to log in and does not distinguish between users.  \n",
    "    - pros : \n",
    "        - finer level of granularity creates more units (one user can be connected to many page views or session)\n",
    "        - provides more units and gives more power to detect small changes\n",
    "    - cons : \n",
    "        - only appropriate when changes are not visible to the user\n",
    "        - may lead to an inconsistent user experience \n",
    "\n",
    "4. **Device-Based**: Every Device ID is a randomization unit\n",
    "    - pros : immutable ID associated with a specific device\n",
    "    - cons : \n",
    "        - identifiable\n",
    "        - only available for mobile devices\n",
    "        \n",
    "5. **IP-Based**: Every IP address is a randomization unit. Every device in every network is assigned a unique IP\n",
    "    - pros : maybe the only option for certain experiments (e.g. testing latency using one hosting service versus another)\n",
    "    - cons : \n",
    "        - Inconsistent user experience : changes when users change places\n",
    "        - Many users share the same IP address\n",
    "       \n",
    "**General Considerations:**\n",
    "1. Consistent user experience \n",
    "- For changes **visible to users**, we should use a **user ID or a cookie** as the randomization unit.\n",
    "- For changes **invisible to users**, e.g., change in latency, it depends on what we want to measure. A user ID or a cookie are still good options if we want to see what happens over time.\n",
    "\n",
    "2. Variability \n",
    "- If the **randomization unit is the same as the unit of analysis**, the empirically computed variability is similar to the analytically computed variability.\n",
    "- If the **randomization unit is coarser than the unit of analysis**, e.g., the randomization unit is the user and we wish to analyze the click-through rate (the unit of analysis is a page view), the variability of the metric will be much higher. This is because the independence assumption is invalid as we are dividing groups of correlated units, which increases the variability.\n",
    "\n",
    "3. Ethical considerations \n",
    "- May face security and confidentiality issues when using identifiable randomization units.\n",
    "\n",
    "<a name=\"04\"></a>\n",
    "### 2. Experiment Design\n",
    "#### 1). Target Population\n",
    "Consider geographic region, platform (mobile vs tablet vs laptop), device type, user demographics (age, gender, country, etc), usage or engagement level (analyze the user journey, example), etc\n",
    "E.g. A new feature only available for users in a particular geographic region → Only need toselect users in that region\n",
    ">User journey : Consider only those customers who intend to make purchase and initiate checkout page because they can check the new \"similar products\" feature\n",
    "> <img style=\"float: middle;\" src='user f.png' width=\"50%\">         \n",
    "\n",
    "#### 2). Sample Size\n",
    "Two-sampled t-tests are the most common statistical significance tests used. Suppose Y is a metric of interest.\n",
    "- $H_0$: mean($Y_t$)= mean($Y_c$) (no treatment effect)\n",
    "- $H_a$: mean($Y_t$)$\\neq$ mean($Y_c$) (there is a treatment effect)\n",
    "\n",
    "The required sample size depends on 4 things:\n",
    "\n",
    "1. **Significance level: $\\alpha$ (common choice is .05):** <br>\n",
    "$\\alpha$ = Type I Error \n",
    "         = when the null hypothesis is actually true, rejecting the null hypothesis \n",
    "         = incorrectly rejecting the null hypothesis \n",
    "         = False Positive \n",
    "Significance level: The probability that we reject even when the treatment has no effect. The probability of committing a Type I error ($\\alpha$). <br>\n",
    "\n",
    "2. **Statistical power: $1-P(\\beta)$ (common choice is .8):**<br>\n",
    "$\\beta$ = Type II Error\n",
    "        = when the alternative hypothesis is true, failing to reject the null hypothesis \n",
    "        = incorrectly accepting the null hypothesis = False Negative \n",
    "Statistical power: <br>\n",
    "    - The probability that we reject when the treatment indeed has an effect. \n",
    "    - This measures how sensitive the experiment is. \n",
    "    - If power is too low, we can’t detect true effects; \n",
    "    - if it’s unrealistically high (.99), we may never finish the experiment. <br>\n",
    "\n",
    "3. **Variances: $\\sigma^2$**\n",
    "    - Because samples are independent, $Var(\\triangle) = Var(E[Y_t]) + Var(E[Y_c])$ where $\\triangle$ is the difference between the Treatment average and the Control average. \n",
    "    - Variances are often estimated either from historical data or from A/A tests.\n",
    "\n",
    "4. Minimally detectable effect (MDE) $\\delta$(a.k.a. practical significance):\n",
    "The smallest difference that matters in practice\n",
    "\n",
    "**Sample Size Formula** <br>\n",
    "\n",
    "$n = \\frac{(\\sigma_t^2 + \\sigma_c^2) (z_{1-\\alpha/2} + z_{1-\\beta})}{\\delta^2}$ \n",
    "\n",
    "**Proof :**\n",
    "\n",
    "Based on central limit theorem : $\\bar{x} \\sim N (\\mu_c - \\mu_t, \\frac{2\\sigma^2}{n})$ assuming that 2 populations have the same variance. \n",
    "\n",
    "We can transform to standard normal distribution, $Z = \\frac{\\bar{x} - (\\mu_c - \\mu_t)}{\\frac{\\sqrt{2}\\sigma}{\\sqrt{n}}} \\sim N(0,1)$. \n",
    "\n",
    "Type II error rate $(\\beta)$: P (accepting $H_0$ when difference exists), $\\beta$= P(acceptance of $H_0$)\n",
    "\n",
    "<img style=\"float: left;\" src='function.png' width=\"48%\">         \n",
    "\n",
    "<img style=\"float: right;\" src='f2.png' width=\"48%\">         "
   ]
  },
  {
   "cell_type": "markdown",
   "id": "f7095df1",
   "metadata": {},
   "source": [
    "As typically, we choose $\\alpha$=0.05, then $z_{1-\\alpha/2} = z_.975 \\approx 1.96$ ; and $\\beta = 0.2$, then $z_{1-\\beta} = z_.80 \\approx 0.84$. Assuming that treatment group and control group are of equal size, the required sample size for each variant is about : $\\frac{16\\sigma^2}{\\delta^2}$\n",
    "\n",
    "- $\\sigma^2$ : Sample variance of the difference between the treatment group and control group. We can estimate it from the historical data. \n",
    "- $\\delta$ : Practical significance (Minimum detectable effect), determind among multiple stakeholders. How much change is the change that matters from the business perspective given all the costs associated with making a change. \n",
    "> For this example , how much increase in revenue  per user  will be considered to outweigh the cost. Assume different stakeholders have agreed on revenue increase of $2/user is practically significant.\n",
    "\n",
    "#### 3). Test Duration\n",
    "**Test Duration :** $\\frac{\\text{Sample Size}}{\\text{Randomization Units/Day}} $\n",
    "- Pitfalls:\n",
    "    - Avoid a duration of less than a week.\n",
    "    - A longer test gathers more data and is almost always better.\n",
    "\n",
    "##### i. Ramp-up plan: trade-off among speed, quality, risk (SQR)\n",
    "\n",
    ">In A/B testing, a ramp-up plan is a strategy for gradually increasing the proportion of users who are exposed to a new experimental variation (e.g., a different version of a web page or app) over time. This helps to minimize the potential impact of any unexpected negative effects of the new variation on user behavior or performance metrics.\n",
    "\n",
    "\n",
    "1. **mitigate risk (0-5%)**: Start with team members, company employees, loyal users, etc. in fear of bugs or other risks — these people tend to be more forgiving.\n",
    "2. **maximum power ramp (MPR, 5-50%)**: Measure treatment effect.\n",
    "3. **post-MPR (optional)**: Ensure infra can withstand the change.\n",
    "4. **long-term holdout (optional)**: Be aware of opportunity costs and ethics because those users won't enjoy new features for a while.\n",
    "5. No bug\n",
    "6. Traffic can be handled without introducing too much latency \n",
    "7. Expose to small population \n",
    "8. Gradually increase percentage \n",
    "9. Role of thumb : start with dozens of users  \n",
    "\n",
    "\n",
    ">Assume there are 200 users per day entering checkout <br>\n",
    "<img style=\"float: left;\" src='rp01.png' width=\"48%\">  <img style=\"float: right;\" src='rp02.png' width=\"48%\">  "
   ]
  },
  {
   "cell_type": "markdown",
   "id": "1f98a024",
   "metadata": {},
   "source": [
    "##### ii. Day of week effect : People behave differently on certain day of a week than other days (more purchases on weekends( \n",
    "-> so it’s recommended to run experiment for >= 1 whole week to capture this  effect \n",
    " \n",
    "##### iii. Seasonality : holiday season : surge in sales during Black Fridays  \n",
    "-> Therefore, data used during holidays cannot be used for analysis ; then we need to run experiment longer \n",
    "\n",
    "##### iiii. Primacy and novelty effects: Users respond to changed differently  \n",
    "-> Can run experiment longer when there is novelty or primacy effect but if we run experiment too long,  we will hit a diminishing return, the precision of the result won’t be improved any further  "
   ]
  },
  {
   "cell_type": "markdown",
   "id": "2e067bcc",
   "metadata": {},
   "source": [
    "<a name=\"05\"></a>\n",
    "### 3. Running Experiment\n",
    "<a name=\"06\"></a>\n",
    "### 4. Result Analysis to Decision & Post-launch Monitoring \n",
    "#### 1). Sanity check :\n",
    "##### Guardrail Metrics\n",
    "1. Trust-related guardrail metrics help us ensure our assumptions regarding the data are not violated.\n",
    "    - **Sample Ratio Mismatch (SRM)**. For the study population, we want 50% in the treatment and 50% in the control. \n",
    "    - Cache hit ratio to be the same among Control and Treatment.\n",
    "    > **Cache hit ratio** in A/B testing refers to the proportion of users who see a cached version of the original or variation page rather than a newly generated version. Caching is a process where a copy of a web page or app is stored in memory or on disk to speed up page load times. <br>\n",
    "    In the context of A/B testing, when a user visits a page that is being tested, the testing tool checks if there is a cached version of the page available. If there is a cached version available, the tool may decide to show the user the cached version rather than generating a new version of the page. This can help to reduce server load and improve page load times. <br>\n",
    "    The cache hit ratio is the percentage of users who are served the cached version of the original or variation page. A high cache hit ratio indicates that the caching system is working well and is helping to improve page load times for users. However, a high cache hit ratio can also make it difficult to measure the impact of the A/B test accurately, as users may be seeing an outdated version of the page. <br>\n",
    "    To ensure that A/B testing results are accurate, it's important to monitor the cache hit ratio and take it into account when interpreting the results of the test. This may involve excluding cached pageviews from the analysis or adjusting the sample size to account for the impact of caching. <br>\n",
    "    - Test statistics follow the assumed distribution\n",
    "        - When the sample size is big enough, by the central limit theorem (CLT), the sampling distribution of $\\mu_t -\\mu_c$ should be normally distributed.\n",
    "        - Normality test\n",
    "\n",
    "2. Organizational-related guardrail metrics are used to ensure that the performance of the organization is following the standard we expect.\n",
    "    - Website/App performance\n",
    "    - Latency: wait times for pages to load.\n",
    "    - Error Logs: number of error messages.\n",
    "    - Client Crashes: crashes per user.\n",
    "    - Business goals\n",
    "    - Revenue: revenue per user and total revenue.\n",
    "    - Engagement: e.g., time spent per user, daily active users (DAU), and page views per user.\n",
    "\n",
    "##### How To Do Sanity Checks\n",
    "- A/A test: Sanity check of the A/B testing system. Run before the system is used in the application\n",
    "    > An A/A test is a type of experiment in which **the same version of a webpage or application is shown to two groups of users, and the groups are compared to check if there are any statistically significant differences in their behavior or other metrics.** <br>\n",
    "    In an A/A test, the two groups are randomly selected from the same population, and both groups are exposed to the exact same version of the webpage or application. The purpose of conducting an A/A test is to check whether the A/B testing tool being used is working correctly and that the statistical analysis being performed on the data is accurate. <br>\n",
    "    If the A/A test shows that there is no statistically significant difference between the two groups, then it can be concluded that the A/B testing tool is functioning correctly and that any differences observed in future A/B tests are likely to be genuine. <br>\n",
    "- Z-test or T-test: Both tests can be used to compare proportions or group means and test for significant differences between them.\n",
    "    - Example: checking sample sizes between groups using Z-test\n",
    "    - Note: In step 1, the \"standard deviation\" is the standard deviation of the sampling distribution for the proportion, or standard error (SE). SE should be used in computations instead of SD.\n",
    "- Chi-Squared Test\n",
    "    - Example: checking for the SRM. Using the Chi-squared test as a goodness of fit test, it is analogous to testing if the treatment/control assignment mechanism is a fair game (should be 50/50).\n",
    "\n",
    "##### What If Sanity Checks Fail?\n",
    "- Stop and assess. Ask what went wrong and how we can address it.\n",
    "- These failures should be a priority concern before moving on to analyzing the data. Is this just a one-time issue or if it will persist or become worse over time? These are supposed to be invariant metrics; we do not want these to differ between groups. \n",
    "- We can also rerun the experiment.\n",
    "- How to debug SRM \n",
    "    - Check Gap upstream of the randomization point\n",
    "    - Check Variant assignment\n",
    "    - Check Data processing pipeline \n",
    "    - Check Segments of population\n",
    "\n",
    "#### 2). Hypothesis Tests\n",
    "- If test statistics follow or can be approximated by normal or t-distributions, use the Z-test or t-test.\n",
    "    - Z-test or t-test \n",
    "        - Decide one-tailed or two-tailed tests\n",
    "        - Compute the mean \n",
    "        - Compute either pooled or unpooled variance\n",
    "    - P-value\n",
    "        - Definition: If $H_0$ is true, what's the probability of seeing an outcome (e.g., a t-statistic) at least this extreme?\n",
    "        - How to use: If the p-value is below your threshold of significance (typically 0.05), then you can reject the null hypothesis.\n",
    "        - Misconception: It's not the probability of $H_a$ being true.\n",
    "    - Assumptions\n",
    "        - Normality: When the sample size is big enough, by the central limit theorem (CLT), the sampling distribution of the difference in the means between the two groups should be normally distributed.\n",
    "            - If the sample isn't large enough for the sampling distribution to be normal\n",
    "                - solution #1: cap values if data is highly skewed\n",
    "                - solution #2: use bootstrapping to calculate statistics\n",
    "        - Independence: Each observation of the dependent variable is independent of other observations.\n",
    "- Otherwise, use non-parametric tests.\n",
    "\n",
    "#### 3). Statistical and Practical Significance\n",
    "The graph shows 4 patterns of A/B testing results in terms of statistical and practical significance.\n",
    "\n",
    "<img style=\"float: middle;\" src='ci.png' width=\"60%\"> \n",
    "\n",
    "1. Statistically and practically significant: The result is both statistically (p < 0.05 and 95% CI does not contain 0) and practically significant, so we should obviously launch it. → Launch!\n",
    "2. Not practically significant:\n",
    "    - Scenario 1: The change is **neither statistically (95% CI contains 0) nor practically significant** \n",
    "        - (95% CI sits in the middle), so not worth launching. \n",
    "        - → The change does not do much. \n",
    "        - Either decide to iterate or abandon this idea.\n",
    "    - Scenario 2: **Statistically significant but not practically significant**\n",
    "        - (95% CI doesn’t contain 0) \n",
    "        - → if implementing a new algorithm is costly, then it’s probably not worth launching; \n",
    "        - if the cost is low, then it doesn’t hurt to launch.\n",
    "3. Likely statistically/practically significant:\n",
    "    - Scenario 1: The 95% CI contains 0 and the CI is outside of what is practically significant. \n",
    "        - → There is not enough power to draw a strong conclusion and we do not have enough data to make any launch decision. \n",
    "        - Run a follow-up test with more units, providing greater statistical power.\n",
    "    - Scenario 2: Likely practically significant. Even though our best guess (i.e., point estimate) is larger than the practical significance boundary, it’s also possible that there is no impact at all. \n",
    "        - → Repeat this test but with greater power to gain more precision in the result. <br>\n",
    "   \n",
    "   Both scenarios suggest our experiment may be underpowered, so we should probably run new experiments with more units if time and resources allow.<br>\n",
    "\n",
    "4. Statistically significant and likely practically significant. \n",
    "    - It is possible that the change is not practically significant. → Can repeat the test with more power. \n",
    "    - However, choosing to launch is a reasonable decision."
   ]
  },
  {
   "cell_type": "markdown",
   "id": "1eac0426",
   "metadata": {},
   "source": [
    "<a name=\"07\"></a>\n",
    "### 5. Common Problems and Pitfalls\n",
    "\n",
    "- 1). Multiple Testing Problems arise in the two scenarios below.\n",
    "    1. **Problem #1 : Multiple success metrics (Multiple hypotheses)**--When the significance level (false positive probability) is 5% for each metric. With N metrics, Pr(at least one metric is false positive) = $1-(1-0.05)^N$ is much greater than 5%.\n",
    "        - Solution: To address this, it's important to group the metrics into categories based on their expected impact, and use different significance levels for each category.\n",
    "        \n",
    "    2. **Problem #2 : Post-experiment result segmentation**--Multiple hypotheses are squeezed into one experiment. Also a higher chance of false positive results. The overall result can contradict segmented results (Simpson's Paradox).\n",
    "    >**Simpson's Paradox** is a phenomenon that can occur in A/B testing (and in other statistical analyses) when **a trend appears in different groups of data, but disappears or reverses when the groups are combined.** This can lead to misleading or contradictory results, and can make it difficult to draw accurate conclusions from the data. <br>\n",
    "    >**For example, imagine an A/B test where the overall conversion rate for Group A is higher than for Group B. However, when the data is segmented by another factor, such as age or gender, it is revealed that Group B actually has a higher conversion rate within each segment. This could happen if the groups have different proportions of users in each segment, and the segments themselves have different conversion rates. When the data is combined, the overall trend is obscured by the differences between the segments.**<br>\n",
    "    Simpson's Paradox can be particularly problematic in A/B testing, where the goal is often to identify the impact of a single variable (such as a design change) on a specific metric (such as conversion rate). To avoid Simpson's Paradox in A/B testing, **it's important to carefully consider the variables and segments being tested, and to analyze the data at both the group and segment levels. It may also be necessary to run separate experiments for different segments, rather than trying to combine them into a single test.**<br>\n",
    "\n",
    "        - Solution #1: Conduct separate experiments for each hypothesis\n",
    "        - Solution #2: Avoid post-test result segmentation. \n",
    "        - Solution #3: If post-test result segmentation is desired:\n",
    "            - Ensure enough randomization units in each segment\n",
    "            - Ensure sufficient randomization in each segment\n",
    "\n",
    "- 2). Lack of Testing Power\n",
    "    - Causes\n",
    "        - P-hacking: Stop the experiment earlier than the designed duration when observing the p-value is lower than the threshold value.\n",
    "        > **P-hacking**, also known as data dredging or data snooping, is a practice that can occur in A/B testing (and in other statistical analyses) where **data is manipulated or analyzed in ways that increase the likelihood of finding a statistically significant result, even if the result is not truly meaningful or accurate**. <br>\n",
    "        P-hacking can take many forms, such as *changing the significance level after the data has been collected, selecting only certain metrics that show a significant difference between groups, or running multiple tests until a significant result is found.*<br>\n",
    "        One common form of p-hacking is called \"peeking\", where an analyst checks the results of a test before deciding when to stop the test. If the test shows a statistically significant result early on, the analyst may end the test prematurely, rather than continuing to collect data until a more accurate result can be obtained.<br>\n",
    "        P-hacking can be a serious problem in A/B testing, as it can lead to false positive results and inaccurate conclusions. To avoid p-hacking, it's important to set a clear plan for the analysis before the test begins, and to stick to that plan without making changes based on the results. It's also important to use a pre-defined significance level, and to avoid making multiple comparisons or tests without adjusting the significance level accordingly.<br>\n",
    "        - The experiment ran as designed but there are not enough randomization units.\n",
    "        - High variance : Variance refers to the variability or spread of data points in a sample or population. High variance in an experiment can occur when there is a large amount of variability between the individual units or subjects in the groups being compared. This can make it difficult to detect a significant difference between the groups, even if there is a true effect. High variance can be addressed by increasing the sample size or by controlling for variables that may be contributing to the variability.\n",
    "    - Solutions\n",
    "        - Do not stop the experiment before the design's duration.\n",
    "        - If there are not enough randomization units\n",
    "            - If the experiment is still running, we should run the experiment until enough units are collected.\n",
    "            - If not, we should re-run the experiment\n",
    "        - Clean data to reduce variance: remove outliers (e.g., capping), log transformation (don't log transform revenue!)\n",
    "        - Use trigger analysis, i.e., only include impacted units (e.g. conversion rate may be 0.5% when you include users from the top funnel but it may be 50% right before the change). The caveat is when generalizing to all users, true effect could be anywhere between 0 and the observed effect.\n",
    "\n",
    "- 3). Changes in Users’ Behaviors\n",
    "    - Causes \n",
    "        - Novelty and primacy effect\n",
    "        - Seasonality\n",
    "        - Market change\n",
    "    - Solutions\n",
    "        - Long-term monitoring\n",
    "- 4). Network Effects\n",
    "    - Use isolation methods. Ensure little or no spillover between the control and treatment units\n",
    "    - Cluster-based randomization\n",
    "        - Randomize based on groups of people who are more likely to interact with fellow groupmembers, rather than outsiders\n",
    "    - Geo-based randomization\n",
    "        - Limit control/treatment group to a specific location or a city\n",
    "    - Time-based randomization\n",
    "        - Select a random time and place all users in either control or treatment groups for a short period of time.\n",
    "    - How to detect interference:\n",
    "        - Monitor during the experiment\n",
    "    - Long-term monitoring by allowing an experiment to run for at least 3 months or by having a holdback group, namely a small control group that is never given access to a new feature."
   ]
  },
  {
   "cell_type": "markdown",
   "id": "8bcabc6f",
   "metadata": {},
   "source": [
    "<a name=\"08\"></a>\n",
    "## Demo using Marketing A/B testing dataset\n",
    "<a name=\"09\"></a>\n",
    "### About Data set \n",
    "Marketing companies want to run successful campaigns, but the market is complex and several options can work. So normally they tun A/B tests, that is a randomized experimentation process wherein two or more versions of a variable (web page, page element, banner, etc.) are shown to different segments of people at the same time to determine which version leaves the maximum impact and drive business metrics.\n",
    "\n",
    "The companies are interested in answering two questions:\n",
    "- Would the campaign be successful?\n",
    "- If the campaign was successful, how much of that success could be attributed to the ads?\n",
    "\n",
    "With the second question in mind, we normally do an A/B test. The majority of the people will be exposed to ads (the experimental group). And a small portion of people (the control group) would instead see a Public Service Announcement (PSA) (or nothing) in the exact size and place the ad would normally be.\n",
    "\n",
    "The idea of the dataset is to analyze the groups, find if the ads were successful, how much the company can make from the ads, and if the difference between the groups is statistically significant.\n",
    "\n",
    "Data dictionary:\n",
    "\n",
    "- Index: Row index\n",
    "- user id: User ID (unique)\n",
    "- test group: If \"ad\" the person saw the advertisement, if \"psa\" they only saw the public service announcement\n",
    "- converted: If a person bought the product then True, else is False\n",
    "- total ads: Amount of ads seen by person\n",
    "- most ads day: Day that the person saw the biggest amount of ads\n",
    "- most ads hour: Hour of day that the person saw the biggest amount of ads\n",
    "\n",
    "Link : https://www.kaggle.com/datasets/faviovaz/marketing-ab-testing\n",
    "\n",
    "<a name=\"10\"></a>\n",
    "###  Working Process\n",
    "1. Understanding business problem & data\n",
    "2. Detect and resolve problems in the data (Missing Value, Outliers, Unexpected Value)\n",
    "3. Look summary stats and plots\n",
    "4. Apply hypothesis testing and check assumptions\n",
    "5. Check Normality & Homogeneity\n",
    "6. Apply tests (Shapiro, Levene Test, T-Test, Welch Test, Mann Whitney U Test)\n",
    "7. Evaluate the results\n",
    "8. Make inferences\n",
    "9. Recommend business decision to your customer/director/ceo etc."
   ]
  },
  {
   "cell_type": "markdown",
   "id": "ea5abdd3",
   "metadata": {},
   "source": [
    "#### 1. PACKAGES"
   ]
  },
  {
   "cell_type": "code",
   "execution_count": 2,
   "id": "4f9e1fc2",
   "metadata": {},
   "outputs": [],
   "source": [
    "# Base\n",
    "# -----------------------------------\n",
    "import numpy as np\n",
    "import pandas as pd \n",
    "import seaborn as sns\n",
    "import matplotlib.pyplot as plt\n",
    "import os\n",
    "\n",
    "# Hypothesis Testing\n",
    "# -----------------------------------\n",
    "from scipy.stats import shapiro\n",
    "import scipy.stats as stats\n",
    "\n",
    "# Configuration\n",
    "# -----------------------------------\n",
    "import warnings\n",
    "warnings.filterwarnings(\"ignore\")\n",
    "warnings.simplefilter(action='ignore', category=FutureWarning)\n",
    "\n",
    "pd.set_option('display.max_columns', None)\n",
    "pd.options.display.float_format = '{:.4f}'.format"
   ]
  },
  {
   "cell_type": "markdown",
   "id": "bf3cfb4f",
   "metadata": {},
   "source": [
    "#### 2. DATA"
   ]
  },
  {
   "cell_type": "code",
   "execution_count": 3,
   "id": "b0de2152",
   "metadata": {},
   "outputs": [],
   "source": [
    "def load(path, info = True):\n",
    "    \n",
    "    import pandas as pd\n",
    "    import io\n",
    "    \n",
    "    if len(path.split(\".csv\")) > 1:\n",
    "        read = pd.read_csv(path)\n",
    "    elif len(path.split(\".xlsx\")) > 1:\n",
    "        read = pd.read_excel(path)\n",
    "    \n",
    "    if info:\n",
    "        if len(read) > 0:\n",
    "            print(\"# Data imported!\")\n",
    "            print(\"# ------------------------------------\", \"\\n\")\n",
    "        \n",
    "            print(\"# DIMENSIONS -------------------------\")\n",
    "            print(\"Observation:\", read.shape[0], \"Column:\", read.shape[1], \"\\n\")\n",
    "    \n",
    "            print(\"# DTYPES -----------------------------\")\n",
    "            if len(read.select_dtypes(\"object\").columns) > 0:\n",
    "                print(\"Object Variables:\", \"\\n\", \"# of Variables:\", \n",
    "                      len(read.select_dtypes(\"object\").columns), \"\\n\", \n",
    "                      read.select_dtypes(\"object\").columns.tolist(), \"\\n\")\n",
    "    \n",
    "            if len(read.select_dtypes(\"integer\").columns) > 0:\n",
    "                print(\"Integer Variables:\", \"\\n\", \"# of Variables:\", \n",
    "                      len(read.select_dtypes(\"integer\").columns), \"\\n\", \n",
    "                      read.select_dtypes(\"integer\").columns.tolist(), \"\\n\")\n",
    "    \n",
    "            if len(read.select_dtypes(\"float\").columns) > 0:\n",
    "                print(\"Float Variables:\", \"\\n\", \"# of Variables:\", \n",
    "                      len(read.select_dtypes(\"float\").columns), \"\\n\", \n",
    "                      read.select_dtypes(\"float\").columns.tolist(), \"\\n\")\n",
    "    \n",
    "            if len(read.select_dtypes(\"bool\").columns) > 0:\n",
    "                print(\"Bool Variables:\", \"\\n\", \"# of Variables:\", \n",
    "                      len(read.select_dtypes(\"bool\").columns), \"\\n\", \n",
    "                      read.select_dtypes(\"bool\").columns.tolist(), \"\\n\")\n",
    "    \n",
    "            print(\"# MISSING VALUE ---------------------\")\n",
    "            print(\"Are there any missing values? \\n \", np.where(read.isnull().values.any() == False, \n",
    "                                                            \"No missing value!\", \"Data includes missing value!\"), \"\\n\")\n",
    "            \n",
    "            buf = io.StringIO()\n",
    "            read.info(buf=buf)\n",
    "            info = buf.getvalue().split('\\n')[-2].split(\":\")[1].strip()\n",
    "            print(\"# MEMORY USAGE ---------------------- \\n\", info)\n",
    "          \n",
    "        else:\n",
    "            print(\"# Data did not import!\")\n",
    "    \n",
    "    return read"
   ]
  },
  {
   "cell_type": "code",
   "execution_count": 4,
   "id": "8039bb17",
   "metadata": {},
   "outputs": [
    {
     "name": "stdout",
     "output_type": "stream",
     "text": [
      "# Data imported!\n",
      "# ------------------------------------ \n",
      "\n",
      "# DIMENSIONS -------------------------\n",
      "Observation: 588101 Column: 7 \n",
      "\n",
      "# DTYPES -----------------------------\n",
      "Object Variables: \n",
      " # of Variables: 2 \n",
      " ['test group', 'most ads day'] \n",
      "\n",
      "Integer Variables: \n",
      " # of Variables: 4 \n",
      " ['Unnamed: 0', 'user id', 'total ads', 'most ads hour'] \n",
      "\n",
      "Bool Variables: \n",
      " # of Variables: 1 \n",
      " ['converted'] \n",
      "\n",
      "# MISSING VALUE ---------------------\n",
      "Are there any missing values? \n",
      "  No missing value! \n",
      "\n",
      "# MEMORY USAGE ---------------------- \n",
      " 27.5+ MB\n"
     ]
    },
    {
     "data": {
      "text/html": [
       "<div>\n",
       "<style scoped>\n",
       "    .dataframe tbody tr th:only-of-type {\n",
       "        vertical-align: middle;\n",
       "    }\n",
       "\n",
       "    .dataframe tbody tr th {\n",
       "        vertical-align: top;\n",
       "    }\n",
       "\n",
       "    .dataframe thead th {\n",
       "        text-align: right;\n",
       "    }\n",
       "</style>\n",
       "<table border=\"1\" class=\"dataframe\">\n",
       "  <thead>\n",
       "    <tr style=\"text-align: right;\">\n",
       "      <th></th>\n",
       "      <th>Unnamed: 0</th>\n",
       "      <th>user id</th>\n",
       "      <th>test group</th>\n",
       "      <th>converted</th>\n",
       "      <th>total ads</th>\n",
       "      <th>most ads day</th>\n",
       "      <th>most ads hour</th>\n",
       "    </tr>\n",
       "  </thead>\n",
       "  <tbody>\n",
       "    <tr>\n",
       "      <th>0</th>\n",
       "      <td>0</td>\n",
       "      <td>1069124</td>\n",
       "      <td>ad</td>\n",
       "      <td>False</td>\n",
       "      <td>130</td>\n",
       "      <td>Monday</td>\n",
       "      <td>20</td>\n",
       "    </tr>\n",
       "    <tr>\n",
       "      <th>1</th>\n",
       "      <td>1</td>\n",
       "      <td>1119715</td>\n",
       "      <td>ad</td>\n",
       "      <td>False</td>\n",
       "      <td>93</td>\n",
       "      <td>Tuesday</td>\n",
       "      <td>22</td>\n",
       "    </tr>\n",
       "    <tr>\n",
       "      <th>2</th>\n",
       "      <td>2</td>\n",
       "      <td>1144181</td>\n",
       "      <td>ad</td>\n",
       "      <td>False</td>\n",
       "      <td>21</td>\n",
       "      <td>Tuesday</td>\n",
       "      <td>18</td>\n",
       "    </tr>\n",
       "    <tr>\n",
       "      <th>3</th>\n",
       "      <td>3</td>\n",
       "      <td>1435133</td>\n",
       "      <td>ad</td>\n",
       "      <td>False</td>\n",
       "      <td>355</td>\n",
       "      <td>Tuesday</td>\n",
       "      <td>10</td>\n",
       "    </tr>\n",
       "    <tr>\n",
       "      <th>4</th>\n",
       "      <td>4</td>\n",
       "      <td>1015700</td>\n",
       "      <td>ad</td>\n",
       "      <td>False</td>\n",
       "      <td>276</td>\n",
       "      <td>Friday</td>\n",
       "      <td>14</td>\n",
       "    </tr>\n",
       "  </tbody>\n",
       "</table>\n",
       "</div>"
      ],
      "text/plain": [
       "   Unnamed: 0  user id test group  converted  total ads most ads day  \\\n",
       "0           0  1069124         ad      False        130       Monday   \n",
       "1           1  1119715         ad      False         93      Tuesday   \n",
       "2           2  1144181         ad      False         21      Tuesday   \n",
       "3           3  1435133         ad      False        355      Tuesday   \n",
       "4           4  1015700         ad      False        276       Friday   \n",
       "\n",
       "   most ads hour  \n",
       "0             20  \n",
       "1             22  \n",
       "2             18  \n",
       "3             10  \n",
       "4             14  "
      ]
     },
     "execution_count": 4,
     "metadata": {},
     "output_type": "execute_result"
    }
   ],
   "source": [
    "path = '/Users/crystal/Desktop/A:B Testing /marketing_AB.csv'    \n",
    "df = load(path, info = True)\n",
    "df.head()"
   ]
  },
  {
   "cell_type": "markdown",
   "id": "3019f78e",
   "metadata": {},
   "source": [
    "#### 3. SUMMARY STATS"
   ]
  },
  {
   "cell_type": "markdown",
   "id": "7e8dcb68",
   "metadata": {},
   "source": [
    "Check whether each row represents a unique user"
   ]
  },
  {
   "cell_type": "code",
   "execution_count": 34,
   "id": "b950dece",
   "metadata": {},
   "outputs": [
    {
     "name": "stdout",
     "output_type": "stream",
     "text": [
      "Each row represents a unique user: True\n"
     ]
    }
   ],
   "source": [
    "print(\"Each row represents a unique user:\", df['user id'].nunique() == df.shape[0])"
   ]
  },
  {
   "cell_type": "markdown",
   "id": "10bc9707",
   "metadata": {},
   "source": [
    "Check the number of unique users"
   ]
  },
  {
   "cell_type": "code",
   "execution_count": 35,
   "id": "0888867b",
   "metadata": {},
   "outputs": [
    {
     "name": "stdout",
     "output_type": "stream",
     "text": [
      "Number of Unique Users: 567935\n"
     ]
    }
   ],
   "source": [
    "print(\"Number of Unique Users:\", df['user id'].nunique())"
   ]
  },
  {
   "cell_type": "markdown",
   "id": "ab78f868",
   "metadata": {},
   "source": [
    "Distribution of # of converted in both groups "
   ]
  },
  {
   "cell_type": "code",
   "execution_count": 40,
   "id": "b39c33fd",
   "metadata": {},
   "outputs": [
    {
     "data": {
      "image/png": "[encoded data removed]",
      "text/plain": [
       "<Figure size 432x288 with 1 Axes>"
      ]
     },
     "metadata": {},
     "output_type": "display_data"
    }
   ],
   "source": [
    "import seaborn as sns\n",
    "import matplotlib.pyplot as plt\n",
    "\n",
    "# Set style with larger grid\n",
    "sns.set_style(\"whitegrid\", {\"grid.linewidth\": 1.7})\n",
    "\n",
    "# Generate count plot\n",
    "ax = sns.countplot(x=\"converted\", hue=\"test group\", data=df)\n",
    "\n",
    "# Get the counts for each bar\n",
    "counts = df.groupby([\"test group\", \"converted\"]).size().reset_index(name=\"count\")\n",
    "\n",
    "# Add text to each bar\n",
    "for i, container in enumerate(ax.containers):\n",
    "    for j, count in enumerate(container):\n",
    "        height = count.get_height()\n",
    "        ax.annotate(counts.iloc[i*2+j][\"count\"], xy=(count.get_x() + count.get_width() / 2, height),\n",
    "                    xytext=(0, 3), textcoords=\"offset points\", ha=\"center\", va=\"bottom\")\n",
    "\n",
    "# Set plot title and labels\n",
    "ax.set_title(\"Conversion Rates by Test Group\")\n",
    "ax.set_xlabel(\"Converted\")\n",
    "ax.set_ylabel(\"Count\")\n",
    "\n",
    "# Set y-axis limit slightly larger than maximum count value\n",
    "max_count = counts[\"count\"].max()\n",
    "ax.set_ylim(0, max_count + max_count*0.1)\n",
    "\n",
    "plt.show()"
   ]
  },
  {
   "cell_type": "code",
   "execution_count": 51,
   "id": "27ceefaa",
   "metadata": {},
   "outputs": [
    {
     "name": "stdout",
     "output_type": "stream",
     "text": [
      "Ttest_indResult(statistic=7.2201958039246, pvalue=5.197727369028733e-13)\n"
     ]
    }
   ],
   "source": [
    "from scipy.stats import ttest_ind\n",
    "ttest_results = ttest_ind(df[df[\"test group\"] == \"ad\"][\"converted\"], df[df[\"test group\"] == \"psa\"][\"converted\"])\n",
    "print(ttest_results)"
   ]
  },
  {
   "cell_type": "markdown",
   "id": "769d075c",
   "metadata": {},
   "source": [
    "The statistic value of 7.22 represents the t-statistic for the test. This value indicates that there is a significant difference between the means of the two groups being compared.\n",
    "\n",
    "The pvalue value of 5.20e-13 represents the probability of observing a t-statistic at least as extreme as the observed value, assuming that there is no difference between the means of the two groups being compared (i.e., assuming the null hypothesis). This value is very small, which suggests strong evidence against the null hypothesis and in favor of the alternative hypothesis (i.e., that there is a significant difference between the means of the two groups).\n",
    "\n",
    "Taken together, these results suggest that there is a significant difference between the means of the two groups being compared, and that this difference is unlikely to have occurred by chance alone."
   ]
  },
  {
   "cell_type": "code",
   "execution_count": 50,
   "id": "85759944",
   "metadata": {},
   "outputs": [
    {
     "data": {
      "image/png": "[encoded data removed]",
      "text/plain": [
       "<Figure size 576x288 with 2 Axes>"
      ]
     },
     "metadata": {},
     "output_type": "display_data"
    }
   ],
   "source": [
    "import matplotlib.pyplot as plt\n",
    "\n",
    "fig, ax = plt.subplots(ncols=2, figsize=(8, 4))\n",
    "\n",
    "sns.barplot(x=\"total ads\", y=\"converted\", data=df[df[\"test group\"] == \"ad\"], ax=ax[0])\n",
    "ax[0].set(title=\"Ad Group\", xlabel=\"Total Ads\", ylabel=\"Conversion Rate\")\n",
    "\n",
    "sns.barplot(x=\"total ads\", y=\"converted\", data=df[df[\"test group\"] == \"psa\"], ax=ax[1])\n",
    "ax[1].set(title=\"PSA Group\", xlabel=\"Total Ads\", ylabel=\"Conversion Rate\")\n",
    "\n",
    "plt.tight_layout()\n",
    "plt.show()"
   ]
  },
  {
   "cell_type": "code",
   "execution_count": 53,
   "id": "95112458",
   "metadata": {},
   "outputs": [
    {
     "data": {
      "image/png": "[encoded data removed]",
      "text/plain": [
       "<Figure size 432x288 with 1 Axes>"
      ]
     },
     "metadata": {},
     "output_type": "display_data"
    }
   ],
   "source": [
    "sns.violinplot(x=\"converted\", y=\"total ads\", hue=\"test group\", data=df)\n",
    "plt.title(\"Distribution of Total Ads by Converted and Test Group\")\n",
    "plt.xlabel(\"Converted\")\n",
    "plt.ylabel(\"Total Ads\")\n",
    "plt.show()"
   ]
  },
  {
   "cell_type": "code",
   "execution_count": 54,
   "id": "c2cdf6d2",
   "metadata": {},
   "outputs": [
    {
     "data": {
      "text/plain": [
       "<AxesSubplot: xlabel='most ads hour', ylabel='converted'>"
      ]
     },
     "execution_count": 54,
     "metadata": {},
     "output_type": "execute_result"
    },
    {
     "data": {
      "image/png": "[encoded data removed]",
      "text/plain": [
       "<Figure size 432x288 with 1 Axes>"
      ]
     },
     "metadata": {},
     "output_type": "display_data"
    }
   ],
   "source": [
    "sns.barplot(x=\"most ads day\", y=\"converted\", hue=\"test group\", data=df, order=[\"Monday\", \"Tuesday\", \"Wednesday\", \"Thursday\", \"Friday\", \"Saturday\", \"Sunday\"])\n",
    "sns.barplot(x=\"most ads hour\", y=\"converted\", hue=\"test group\", data=df)"
   ]
  },
  {
   "cell_type": "code",
   "execution_count": 55,
   "id": "b27aa800",
   "metadata": {},
   "outputs": [
    {
     "name": "stdout",
     "output_type": "stream",
     "text": [
      "The hour of the day with the highest conversion rate was: 16\n"
     ]
    }
   ],
   "source": [
    "# Group the data by most ads hour, and calculate the mean of the converted column\n",
    "conversion_by_hour = df.groupby(\"most ads hour\")[\"converted\"].mean()\n",
    "\n",
    "# Find the hour with the highest conversion rate\n",
    "max_conversion_hour = conversion_by_hour.idxmax()\n",
    "\n",
    "# Print the result\n",
    "print(\"The hour of the day with the highest conversion rate was:\", max_conversion_hour)"
   ]
  },
  {
   "cell_type": "markdown",
   "id": "8cdd679b",
   "metadata": {},
   "source": [
    "So 4 pm in a day has the maximum business"
   ]
  },
  {
   "cell_type": "code",
   "execution_count": 56,
   "id": "72cfdc46",
   "metadata": {},
   "outputs": [
    {
     "name": "stdout",
     "output_type": "stream",
     "text": [
      "test group       ad    psa\n",
      "most ads day              \n",
      "Monday       0.0335 0.0231\n",
      "Tuesday      0.0304 0.0142\n",
      "Wednesday    0.0255 0.0162\n",
      "Sunday       0.0245 0.0213\n",
      "Friday       0.0227 0.0159\n",
      "Thursday     0.0217 0.0201\n",
      "Saturday     0.0213 0.0141\n"
     ]
    }
   ],
   "source": [
    "# Calculate conversion rate by day and test group\n",
    "conversion_by_day = df.groupby([\"most ads day\", \"test group\"])[\"converted\"].mean()\n",
    "\n",
    "# Reshape the data from long to wide format\n",
    "conversion_by_day = conversion_by_day.unstack(level=1)\n",
    "\n",
    "# Sort the values in descending order\n",
    "conversion_by_day = conversion_by_day.sort_values(by=[\"ad\", \"psa\"], ascending=False)\n",
    "\n",
    "# Print the result\n",
    "print(conversion_by_day)"
   ]
  },
  {
   "cell_type": "code",
   "execution_count": 57,
   "id": "0091d264",
   "metadata": {},
   "outputs": [
    {
     "data": {
      "image/png": "[encoded data removed]",
      "text/plain": [
       "<Figure size 720x432 with 1 Axes>"
      ]
     },
     "metadata": {},
     "output_type": "display_data"
    }
   ],
   "source": [
    "# Sort the values in descending order\n",
    "conversion_by_day = conversion_by_day.sort_values(by=[\"ad\", \"psa\"], ascending=False)\n",
    "\n",
    "# Create a stacked bar plot of the conversion rate by day and test group\n",
    "sns.set_style(\"whitegrid\")\n",
    "ax = conversion_by_day.plot(kind=\"bar\", stacked=True, figsize=(10, 6))\n",
    "plt.title(\"Conversion Rate by Test Group and Day of the Week\")\n",
    "plt.xlabel(\"Day of the Week\")\n",
    "plt.ylabel(\"Conversion Rate\")\n",
    "\n",
    "# Add value labels to each bar segment\n",
    "for i in range(conversion_by_day.shape[0]):\n",
    "    ad_value = conversion_by_day.iloc[i][\"ad\"]\n",
    "    psa_value = conversion_by_day.iloc[i][\"psa\"]\n",
    "    ax.text(i, ad_value / 2, f\"{ad_value:.2f}\", ha=\"center\", va=\"center\")\n",
    "    ax.text(i, ad_value + psa_value / 2, f\"{psa_value:.2f}\", ha=\"center\", va=\"center\")\n",
    "\n",
    "plt.legend(title=\"Test Group\", labels=[\"Ad\", \"PSA\"])\n",
    "plt.show()"
   ]
  },
  {
   "cell_type": "markdown",
   "id": "f9d3cc6f",
   "metadata": {},
   "source": [
    "Monday is the maximum business day"
   ]
  },
  {
   "cell_type": "code",
   "execution_count": 58,
   "id": "016606cf",
   "metadata": {},
   "outputs": [
    {
     "name": "stdout",
     "output_type": "stream",
     "text": [
      "Top 10 hours with less business:\n",
      "most ads hour\n",
      "2    0.0073\n",
      "3    0.0105\n",
      "1    0.0129\n",
      "4    0.0152\n",
      "7    0.0181\n",
      "0    0.0184\n",
      "9    0.0192\n",
      "8    0.0195\n",
      "5    0.0209\n",
      "10   0.0215\n",
      "Name: converted, dtype: float64\n"
     ]
    }
   ],
   "source": [
    "# Group the data by most ads hour and calculate the mean of the converted column\n",
    "conversion_by_hour = df.groupby(\"most ads hour\")[\"converted\"].mean()\n",
    "\n",
    "# Sort the values in ascending order and take the top 10\n",
    "top_10_less_business_hours = conversion_by_hour.sort_values().head(10)\n",
    "\n",
    "# Print the result\n",
    "print(\"Top 10 hours with less business:\")\n",
    "print(top_10_less_business_hours)"
   ]
  },
  {
   "cell_type": "code",
   "execution_count": 62,
   "id": "0039b8ff",
   "metadata": {},
   "outputs": [
    {
     "data": {
      "image/png": "[encoded data removed]",
      "text/plain": [
       "<Figure size 432x288 with 1 Axes>"
      ]
     },
     "metadata": {},
     "output_type": "display_data"
    }
   ],
   "source": [
    "# Filter the data to include only the \"ad\" group\n",
    "df_ad = df[df[\"test group\"] == \"ad\"]\n",
    "\n",
    "# Group the data by hour of the day, and calculate the mean of the converted column\n",
    "conversion_by_hour = df_ad.groupby(\"most ads hour\")[\"converted\"].mean().reset_index()\n",
    "\n",
    "# Create a new column for the hour in AM/PM format\n",
    "conversion_by_hour[\"hour_ampm\"] = pd.to_datetime(conversion_by_hour[\"most ads hour\"], format=\"%H\").dt.strftime(\"%I %p\")\n",
    "\n",
    "# Create a bar plot of the conversion rate by hour of the day\n",
    "sns.barplot(data=conversion_by_hour, x=\"hour_ampm\", y=\"converted\")\n",
    "plt.title(\"Conversion Rate by Hour of the Day (Ad Group)\")\n",
    "plt.xlabel(\"Hour of the Day (AM/PM)\")\n",
    "plt.ylabel(\"Conversion Rate\")\n",
    "\n",
    "# Rotate the x-axis labels by 45 degrees\n",
    "plt.xticks(rotation=45)\n",
    "\n",
    "plt.show()"
   ]
  },
  {
   "cell_type": "code",
   "execution_count": 64,
   "id": "e93ae5b6",
   "metadata": {},
   "outputs": [
    {
     "name": "stdout",
     "output_type": "stream",
     "text": [
      "The conversion rate for the two groups is 2.50%\n",
      "The conversion rate for the ad group is 2.60%\n",
      "The conversion rate for the PSA group is 1.80%\n",
      "The t-test p-value is 0.0000\n"
     ]
    }
   ],
   "source": [
    "# Total Conversion rate \n",
    "totoal_cr = round(df['converted'].mean(),3)\n",
    "print(\"The conversion rate for the two groups is {:.2f}%\".format(totoal_cr   * 100))\n",
    "# The probability converted in the treatment group\n",
    "treatment_cr = round(df[(df['test group'] == 'ad') & (df['converted'] == 1)]['user id'].nunique() / df[df['test group'] == 'ad']['user id'].nunique(),3)\n",
    "print(\"The conversion rate for the ad group is {:.2f}%\".format(treatment_cr * 100))\n",
    "# The probability converted in the control group\n",
    "control_cr = round(df[(df['test group'] == 'psa') & (df['converted'] == 1)]['user id'].nunique() / df[df['test group'] == 'psa']['user id'].nunique(),3)\n",
    "print(\"The conversion rate for the PSA group is {:.2f}%\".format(control_cr  * 100))\n",
    "\n",
    "print(\"The t-test p-value is {:.4f}\".format(ttest_results.pvalue))"
   ]
  },
  {
   "cell_type": "markdown",
   "id": "1b1b0e77",
   "metadata": {},
   "source": [
    "The ad group had a higher conversion rate (2.55%) compared to the PSA group (1.79%). This indicates that the ad campaign was more effective in driving conversions compared to the PSA.\n",
    "\n",
    "The t-test p-value of 0.0000 suggests that the difference in conversion rates between the two groups is statistically significant, meaning that it is unlikely to have occurred by chance alone. This strengthens our confidence in the observed difference between the two groups.\n",
    "\n",
    "Overall, this suggests that the ad campaign was successful in driving conversions, and that the difference in conversion rates between the two groups is likely due to the impact of the ads."
   ]
  }
 ],
 "metadata": {
  "kernelspec": {
   "display_name": "Python 3",
   "language": "python",
   "name": "python3"
  },
  "language_info": {
   "codemirror_mode": {
    "name": "ipython",
    "version": 3
   },
   "file_extension": ".py",
   "mimetype": "text/x-python",
   "name": "python",
   "nbconvert_exporter": "python",
   "pygments_lexer": "ipython3",
   "version": "3.8.8"
  }
 },
 "nbformat": 4,
 "nbformat_minor": 5
}
